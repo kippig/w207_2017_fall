{
 "cells": [
  {
   "cell_type": "markdown",
   "metadata": {},
   "source": [
    "# Project 1: Digit Classification with KNN and Naive Bayes"
   ]
  },
  {
   "cell_type": "markdown",
   "metadata": {},
   "source": [
    "In this project, you'll implement your own image recognition system for classifying digits. Read through the code and the instructions carefully and add your own code where indicated. Each problem can be addressed succinctly with the included packages -- please don't add any more. Grading will be based on writing clean, commented code, along with a few short answers.\n",
    "\n",
    "As always, you're welcome to work on the project in groups and discuss ideas on the course wall, but <b> please prepare your own write-up (with your own code). </b>\n",
    "\n",
    "If you're interested, check out these links related to digit recognition:\n",
    "\n",
    "Yann Lecun's MNIST benchmarks: http://yann.lecun.com/exdb/mnist/\n",
    "\n",
    "Stanford Streetview research and data: http://ufldl.stanford.edu/housenumbers/"
   ]
  },
  {
   "cell_type": "code",
   "execution_count": 2,
   "metadata": {},
   "outputs": [
    {
     "name": "stderr",
     "output_type": "stream",
     "text": [
      "C:\\Users\\Kippy\\Anaconda3\\lib\\site-packages\\sklearn\\cross_validation.py:44: DeprecationWarning: This module was deprecated in version 0.18 in favor of the model_selection module into which all the refactored classes and functions are moved. Also note that the interface of the new CV iterators are different from that of this module. This module will be removed in 0.20.\n",
      "  \"This module will be removed in 0.20.\", DeprecationWarning)\n",
      "C:\\Users\\Kippy\\Anaconda3\\lib\\site-packages\\sklearn\\grid_search.py:43: DeprecationWarning: This module was deprecated in version 0.18 in favor of the model_selection module into which all the refactored classes and functions are moved. This module will be removed in 0.20.\n",
      "  DeprecationWarning)\n"
     ]
    }
   ],
   "source": [
    "# This tells matplotlib not to try opening a new window for each plot.\n",
    "%matplotlib inline\n",
    "\n",
    "# Import a bunch of libraries.\n",
    "import math #I want to use this for log transformations.\n",
    "import time\n",
    "import numpy as np\n",
    "import matplotlib.pyplot as plt\n",
    "from matplotlib.ticker import MultipleLocator\n",
    "from sklearn.pipeline import Pipeline\n",
    "from sklearn.datasets import fetch_mldata\n",
    "from sklearn.neighbors import KNeighborsClassifier\n",
    "from sklearn.metrics import confusion_matrix\n",
    "from sklearn.linear_model import LinearRegression\n",
    "from sklearn.naive_bayes import BernoulliNB\n",
    "from sklearn.naive_bayes import MultinomialNB\n",
    "from sklearn.naive_bayes import GaussianNB\n",
    "from sklearn.grid_search import GridSearchCV\n",
    "from sklearn.metrics import classification_report\n",
    "\n",
    "# Set the randomizer seed so results are the same each time.\n",
    "np.random.seed(0)"
   ]
  },
  {
   "cell_type": "markdown",
   "metadata": {},
   "source": [
    "Load the data. Notice that we are splitting the data into training, development, and test. We also have a small subset of the training data called mini_train_data and mini_train_labels that you should use in all the experiments below, unless otherwise noted."
   ]
  },
  {
   "cell_type": "code",
   "execution_count": 3,
   "metadata": {},
   "outputs": [
    {
     "name": "stdout",
     "output_type": "stream",
     "text": [
      "data shape:  (70000, 784)\n",
      "label shape: (70000,)\n"
     ]
    }
   ],
   "source": [
    "# Load the digit data either from mldata.org, or once downloaded to data_home, from disk. The data is about 53MB so this cell\n",
    "# should take a while the first time your run it.\n",
    "mnist = fetch_mldata('MNIST original', data_home='~/datasets/mnist')\n",
    "X, Y = mnist.data, mnist.target\n",
    "\n",
    "# Rescale grayscale values to [0,1].\n",
    "X = X / 255.0\n",
    "\n",
    "# Shuffle the input: create a random permutation of the integers between 0 and the number of data points and apply this\n",
    "# permutation to X and Y.\n",
    "# NOTE: Each time you run this cell, you'll re-shuffle the data, resulting in a different ordering.\n",
    "shuffle = np.random.permutation(np.arange(X.shape[0]))\n",
    "X, Y = X[shuffle], Y[shuffle]\n",
    "\n",
    "print('data shape: ', X.shape)\n",
    "print('label shape:', Y.shape)\n",
    "\n",
    "# Set some variables to hold test, dev, and training data.\n",
    "test_data, test_labels = X[61000:], Y[61000:]\n",
    "dev_data, dev_labels = X[60000:61000], Y[60000:61000]\n",
    "train_data, train_labels = X[:60000], Y[:60000]\n",
    "mini_train_data, mini_train_labels = X[:1000], Y[:1000]"
   ]
  },
  {
   "cell_type": "markdown",
   "metadata": {},
   "source": [
    "(1) Create a 10x10 grid to visualize 10 examples of each digit. Python hints:\n",
    "\n",
    "- plt.rc() for setting the colormap, for example to black and white\n",
    "- plt.subplot() for creating subplots\n",
    "- plt.imshow() for rendering a matrix\n",
    "- np.array.reshape() for reshaping a 1D feature vector into a 2D matrix (for rendering)"
   ]
  },
  {
   "cell_type": "code",
   "execution_count": 19,
   "metadata": {},
   "outputs": [
    {
     "data": {
      "image/png": "[encoded data removed]",
      "text/plain": [
       "<matplotlib.figure.Figure at 0x138a94638d0>"
      ]
     },
     "metadata": {},
     "output_type": "display_data"
    }
   ],
   "source": [
    "def P1(num_examples=10):\n",
    "\n",
    "    ### STUDENT START ###\n",
    "\n",
    "    #First we'll load up 10 examples of each digit, so we need a 10x10 matrix (list of lists)\n",
    "    examples=[[None for i in range(num_examples)] for j in range(10)]\n",
    "    examples_counter = [0]*10 #keep track of the number of examples.\n",
    "    \n",
    "    #Loop through the mini_train_labels until we have 10 of every example\n",
    "    i = 0\n",
    "    while min(examples_counter) < num_examples: #while we don't have 10 of every example\n",
    "        Y = int(mini_train_labels[i]) \n",
    "        if examples_counter[Y] < num_examples: #if we don't have 10 examples of this number yet\n",
    "            examples[Y][examples_counter[Y]] = (np.reshape(mini_train_data[i], (28,28))) #Process the data into matrix form\n",
    "            examples_counter[Y] += 1\n",
    "        i += 1\n",
    "    \n",
    "    #plot our examples!\n",
    "    fig, axes = plt.subplots(10, num_examples)\n",
    "    for digit in range(10):\n",
    "        for j in range(num_examples):\n",
    "            axes[digit,j].imshow(examples[digit][j], cmap = \"gray_r\")\n",
    "            axes[digit,j].axis('off')\n",
    "    ### STUDENT END ###\n",
    "\n",
    "P1(10)"
   ]
  },
  {
   "cell_type": "markdown",
   "metadata": {},
   "source": [
    "(2) Evaluate a K-Nearest-Neighbors model with k = [1,3,5,7,9] using the mini training set. Report accuracy on the dev set. For k=1, show precision, recall, and F1 for each label. Which is the most difficult digit?\n",
    "\n",
    "- KNeighborsClassifier() for fitting and predicting\n",
    "- classification_report() for producing precision, recall, F1 results"
   ]
  },
  {
   "cell_type": "code",
   "execution_count": 24,
   "metadata": {},
   "outputs": [
    {
     "name": "stdout",
     "output_type": "stream",
     "text": [
      "Accuracy on set with k =  1  :  0.977\n",
      "k = 1\n",
      "             precision    recall  f1-score   support\n",
      "\n",
      "          0       0.96      1.00      0.98        99\n",
      "          1       1.00      1.00      1.00       105\n",
      "          2       0.98      0.96      0.97       102\n",
      "          3       0.95      0.97      0.96        86\n",
      "          4       0.99      0.98      0.99       104\n",
      "          5       0.97      0.97      0.97        91\n",
      "          6       0.99      0.98      0.98        98\n",
      "          7       0.99      0.98      0.99       113\n",
      "          8       0.98      0.93      0.95        96\n",
      "          9       0.95      1.00      0.98       106\n",
      "\n",
      "avg / total       0.98      0.98      0.98      1000\n",
      "\n"
     ]
    }
   ],
   "source": [
    "def P2(k_values):\n",
    "\n",
    "    ### STUDENT START ###\n",
    "    for k in k_values:\n",
    "        neigh = KNeighborsClassifier(n_neighbors = k, n_jobs = -1)\n",
    "        neigh.fit(mini_train_data, mini_train_labels)\n",
    "        prediction = neigh.predict(dev_data)\n",
    "        target_names = ['0','1','2','3','4','5','6','7','8','9']\n",
    "        print(\"Accuracy on set with k = \", k,\" : \",  neigh.score(dev_data, dev_labels))\n",
    "        if k == 1:\n",
    "            print(\"k = 1\")\n",
    "            print(classification_report(dev_labels, prediction, target_names=target_names))\n",
    "    \n",
    "    ### STUDENT END ###\n",
    "\n",
    "k_values = [1,3,5,7]\n",
    "P2(k_values)"
   ]
  },
  {
   "cell_type": "markdown",
   "metadata": {},
   "source": [
    "ANSWER: The problematic numbers here are 3 and 9. I looked at the f1-scores for all other k-values (not published). 3 and 9 were consistently the worst two, but sometimes one was worse than the other and vice-versa."
   ]
  },
  {
   "cell_type": "markdown",
   "metadata": {},
   "source": [
    "(3) Using k=1, report dev set accuracy for the training set sizes below. Also, measure the amount of time needed for prediction with each training size.\n",
    "\n",
    "- time.time() gives a wall clock value you can use for timing operations"
   ]
  },
  {
   "cell_type": "code",
   "execution_count": 26,
   "metadata": {
    "collapsed": true
   },
   "outputs": [],
   "source": [
    "def P3(train_sizes, accuracies):\n",
    "\n",
    "### STUDENT START ###\n",
    "    runtimes = []\n",
    "    for train_size in train_sizes:\n",
    "        start = time.time()\n",
    "        neigh = KNeighborsClassifier(n_neighbors = 1, n_jobs = -1)\n",
    "        neigh.fit(train_data[:train_size], train_labels[:train_size])\n",
    "        accuracies.append(neigh.score(dev_data, dev_labels))\n",
    "        runtimes.append(time.time() - start)\n",
    "        \n",
    "\n",
    "### STUDENT END ###\n",
    "\n",
    "train_sizes = [100, 200, 400, 800, 1600, 3200, 6400, 12800, 25000]\n",
    "accuracies = []\n",
    "P3(train_sizes, accuracies)"
   ]
  },
  {
   "cell_type": "markdown",
   "metadata": {},
   "source": [
    "(4) Fit a regression model that predicts accuracy from training size. What does it predict for n=60000? What's wrong with using regression here? Can you apply a transformation that makes the predictions more reasonable?\n",
    "\n",
    "- Remember that the sklearn fit() functions take an input matrix X and output vector Y. So each input example in X is a vector, even if it contains only a single value."
   ]
  },
  {
   "cell_type": "code",
   "execution_count": 27,
   "metadata": {
    "scrolled": true
   },
   "outputs": [
    {
     "name": "stdout",
     "output_type": "stream",
     "text": [
      "Predicted accuracy for 60000:  124.307226036 %\n",
      "[ 1.0134645]\n"
     ]
    },
    {
     "name": "stderr",
     "output_type": "stream",
     "text": [
      "C:\\Users\\Kippy\\Anaconda3\\lib\\site-packages\\sklearn\\utils\\validation.py:395: DeprecationWarning: Passing 1d arrays as data is deprecated in 0.17 and will raise ValueError in 0.19. Reshape your data either using X.reshape(-1, 1) if your data has a single feature or X.reshape(1, -1) if it contains a single sample.\n",
      "  DeprecationWarning)\n"
     ]
    },
    {
     "data": {
      "image/png": "[encoded data removed]",
      "text/plain": [
       "<matplotlib.figure.Figure at 0x138a8432f28>"
      ]
     },
     "metadata": {},
     "output_type": "display_data"
    }
   ],
   "source": [
    "def P4():\n",
    "\n",
    "### STUDENT START ###\n",
    "    T = np.array(train_sizes)\n",
    "    \n",
    "    #Setup our Linear Regression Object\n",
    "    naive_model = LinearRegression()\n",
    "    naive_model.fit(T[:, np.newaxis] , accuracies) # I do not understand why we need np.newaxis here, but it's the only way I could make it work.\n",
    "    prediction = naive_model.predict(T[:, np.newaxis])\n",
    "    \n",
    "    #Plot our linear model\n",
    "    x = np.linspace(0,26000,100)\n",
    "    y = [(naive_model.coef_[0]*x1 + naive_model.intercept_) for x1 in x]\n",
    "    plt.plot(x,y)\n",
    "    \n",
    "    #Plot our training Data\n",
    "    plt.scatter(train_sizes,accuracies)\n",
    "    \n",
    "    #This is why a linear model is bad.\n",
    "    print('Predicted accuracy for 60000: ',  100*(naive_model.coef_[0]*60000+naive_model.intercept_), '%')\n",
    "    \n",
    "    #Now we transform with log, we also make the right tail heavier to approximate better end behavior.\n",
    "    T = np.array(train_sizes)\n",
    "    sampleweight = np.array([1,1,1,1,1,1,1,5,10])\n",
    "    for i in range(len(T)):\n",
    "        T[i] = math.log(T[i])\n",
    "    astute_model = LinearRegression()\n",
    "    astute_model.fit(T[:, np.newaxis], accuracies, sample_weight = sampleweight)\n",
    "    \n",
    "    Transform = list(T)\n",
    "    for i in range(len(Transform)):\n",
    "        Transform[i] = math.pow(math.e,Transform[i])\n",
    "    plt.plot(Transform, astute_model.predict(T[:, np.newaxis]), color='blue', linewidth=3)\n",
    "    \n",
    "    print(astute_model.predict([math.log(60000)]))\n",
    "    \n",
    "    \n",
    "### STUDENT END ###,\n",
    "\n",
    "P4()"
   ]
  },
  {
   "cell_type": "markdown",
   "metadata": {},
   "source": [
    "ANSWER: As we can see from the above graph, this is clearly not a linear relationship. We see that with n = 60000, we predict 124% accuracy. An absurd notion. Instead we will transform our input. When we apply a log transform, get a predicted accuracy of 101% which while we knoew this is absurd still, we can conclude from this much better fit of a model that we are asymptotically approaching 100% accuracy as the sample size increases (we do not expect to ever reach 100% accuracy!)."
   ]
  },
  {
   "cell_type": "markdown",
   "metadata": {},
   "source": [
    "Fit a 1-NN and output a confusion matrix for the dev data. Use the confusion matrix to identify the most confused pair of digits, and display a few example mistakes.\n",
    "\n",
    "- confusion_matrix() produces a confusion matrix"
   ]
  },
  {
   "cell_type": "code",
   "execution_count": 8,
   "metadata": {},
   "outputs": [
    {
     "name": "stdout",
     "output_type": "stream",
     "text": [
      "These  9 's were labelled  4 .\n"
     ]
    },
    {
     "data": {
      "image/png": "[encoded data removed]",
      "text/plain": [
       "<matplotlib.figure.Figure at 0x21f1db3a208>"
      ]
     },
     "metadata": {},
     "output_type": "display_data"
    }
   ],
   "source": [
    "def P5():\n",
    "\n",
    "### STUDENT START ###\n",
    "    neigh = KNeighborsClassifier(n_neighbors = 1, n_jobs = -1)\n",
    "    neigh.fit(mini_train_data, mini_train_labels)\n",
    "    prediction = neigh.predict(dev_data)\n",
    "    confusion = confusion_matrix(dev_labels, prediction, labels = [0,1,2,3,4,5,6,7,8,9])\n",
    "    #we want to find the whereabouts of the element of this matrix with maximum values. But the main diagonal is the largest.\n",
    "    #Since these are correct we don't care about them and will replace them with 0 so that they are not maximal\n",
    "    for i in range(10):\n",
    "        confusion[i][i] = 0\n",
    "    \n",
    "    #Now we find the location of the largest value in the matrix and take note of the row, column\n",
    "    x, y = np.argmax(np.max(confusion, axis=0)), np.argmax(np.max(confusion, axis=1))\n",
    "    \n",
    "    print(\"These \", x, \"'s were labelled \", y, \".\")\n",
    "    \n",
    "    #now we will find some examples to plot\n",
    "    examples = []\n",
    "    i = 0\n",
    "    while len(examples) < 11 and i < len(prediction): # We're going to get 10 examples or all of them, whichever is fewer.\n",
    "        if dev_labels[i] == x and prediction[i] == y:\n",
    "            examples.append(np.reshape(dev_data[i], (28,28)))\n",
    "        i += 1\n",
    "    \n",
    "    #plot our examples!\n",
    "    fig, axes = plt.subplots(len(examples), 1)\n",
    "    for j in range(len(examples)):\n",
    "            axes[j].imshow(examples[j], cmap = \"gray_r\")\n",
    "            axes[j].axis('off')\n",
    "    \n",
    "### STUDENT END ###\n",
    "\n",
    "P5()"
   ]
  },
  {
   "cell_type": "markdown",
   "metadata": {},
   "source": [
    "(6) A common image processing technique is to smooth an image by blurring. The idea is that the value of a particular pixel is estimated as the weighted combination of the original value and the values around it. Typically, the blurring is Gaussian -- that is, the weight of a pixel's influence is determined by a Gaussian function over the distance to the relevant pixel.\n",
    "\n",
    "Implement a simplified Gaussian blur by just using the 8 neighboring pixels: the smoothed value of a pixel is a weighted combination of the original value and the 8 neighboring values. Try applying your blur filter in 3 ways:\n",
    "- preprocess the training data but not the dev data\n",
    "- preprocess the dev data but not the training data\n",
    "- preprocess both training and dev data\n",
    "\n",
    "Note that there are Guassian blur filters available, for example in scipy.ndimage.filters. You're welcome to experiment with those, but you are likely to get the best results with the simplified version I described above."
   ]
  },
  {
   "cell_type": "code",
   "execution_count": 22,
   "metadata": {},
   "outputs": [
    {
     "name": "stdout",
     "output_type": "stream",
     "text": [
      "Processed training data with regular dev_data.\n",
      "             precision    recall  f1-score   support\n",
      "\n",
      "          0       0.88      0.97      0.92        99\n",
      "          1       0.94      0.98      0.96       105\n",
      "          2       0.99      0.75      0.86       102\n",
      "          3       0.82      0.81      0.82        86\n",
      "          4       0.91      0.82      0.86       104\n",
      "          5       0.93      0.84      0.88        91\n",
      "          6       0.94      0.92      0.93        98\n",
      "          7       0.83      0.92      0.87       113\n",
      "          8       0.85      0.91      0.88        96\n",
      "          9       0.74      0.84      0.78       106\n",
      "\n",
      "avg / total       0.88      0.88      0.88      1000\n",
      "\n",
      "Regular training data with processed dev_data.\n",
      "             precision    recall  f1-score   support\n",
      "\n",
      "          0       0.93      0.97      0.95        99\n",
      "          1       0.76      0.99      0.86       105\n",
      "          2       0.97      0.87      0.92       102\n",
      "          3       0.73      0.85      0.78        86\n",
      "          4       0.88      0.85      0.86       104\n",
      "          5       0.90      0.80      0.85        91\n",
      "          6       0.90      0.96      0.93        98\n",
      "          7       0.90      0.89      0.90       113\n",
      "          8       0.95      0.72      0.82        96\n",
      "          9       0.84      0.77      0.80       106\n",
      "\n",
      "avg / total       0.88      0.87      0.87      1000\n",
      "\n",
      "Processed training data with processed dev_data.\n",
      "             precision    recall  f1-score   support\n",
      "\n",
      "          0       0.91      0.98      0.94        99\n",
      "          1       0.92      0.99      0.95       105\n",
      "          2       0.99      0.82      0.90       102\n",
      "          3       0.79      0.84      0.81        86\n",
      "          4       0.94      0.84      0.88       104\n",
      "          5       0.90      0.86      0.88        91\n",
      "          6       0.96      0.96      0.96        98\n",
      "          7       0.91      0.92      0.92       113\n",
      "          8       0.92      0.92      0.92        96\n",
      "          9       0.79      0.87      0.83       106\n",
      "\n",
      "avg / total       0.90      0.90      0.90      1000\n",
      "\n"
     ]
    },
    {
     "data": {
      "image/png": "[encoded data removed]",
      "text/plain": [
       "<matplotlib.figure.Figure at 0x138a9896940>"
      ]
     },
     "metadata": {},
     "output_type": "display_data"
    }
   ],
   "source": [
    "def P6():\n",
    "    \n",
    "### STUDENT START ###\n",
    "    target_names = ['0','1','2','3','4','5','6','7','8','9']\n",
    "   \n",
    "    #with processed training data and regular dev_data\n",
    "    neigh = KNeighborsClassifier(n_neighbors = 1, n_jobs = -1)\n",
    "    neigh.fit(processed_mini_train_data, mini_train_labels)\n",
    "    prediction = neigh.predict(dev_data)\n",
    "    print(\"Processed training data with regular dev_data.\")\n",
    "    print(classification_report(dev_labels, prediction, target_names=target_names))\n",
    "            \n",
    "    #with regular training data and processed dev_data\n",
    "    neigh = KNeighborsClassifier(n_neighbors = 1, n_jobs = -1)\n",
    "    neigh.fit(mini_train_data, mini_train_labels)\n",
    "    prediction = neigh.predict(processed_dev_data)\n",
    "    print(\"Regular training data with processed dev_data.\")\n",
    "    print(classification_report(dev_labels, prediction, target_names=target_names))\n",
    "    \n",
    "    #with both sets preprocessed\n",
    "    neigh = KNeighborsClassifier(n_neighbors = 1, n_jobs = -1)\n",
    "    neigh.fit(processed_mini_train_data, mini_train_labels)\n",
    "    prediction = neigh.predict(processed_dev_data)\n",
    "    print(\"Processed training data with processed dev_data.\")\n",
    "    print(classification_report(dev_labels, prediction, target_names=target_names))\n",
    "\n",
    "def smoother(image, weight):\n",
    "    #weight is the percentage of value the border pixels have each\n",
    "    processed_image = np.zeros(784)\n",
    "    #Loop through every pixel in the image\n",
    "    for i in range(28):\n",
    "        for j in range(28):\n",
    "            neighbors = [image[28*i+j]]\n",
    "            #get all the neighbors of the pixel\n",
    "            for k in range(-1, 2, 1):\n",
    "                for l in range(-1, 2, 1): \n",
    "                    if i + 28*k >= 0 and j + l >= 0 and 28*(i+k) < 784 and j + l < 28: #make sure we're not over the boundary\n",
    "                        if k != 0 or l != 0: #If both k, l are zero then we're just getting back i,j: our starting pixel.\n",
    "                            neighbors.append(image[28*(i+k)+j+l])\n",
    "            #now our processed pixel is the weighted average\n",
    "            processed_image[28*i+j] = (neighbors[0] + weight*sum(neighbors[1:]))/(1+weight*(len(neighbors)-1))\n",
    "    return processed_image\n",
    "\n",
    "#We will blur our data outside the defined function so that we can refer to this in the extra credit.\n",
    "weight = 1 #the pixel in question has weight 1, this sets the weights for all neighboring pixels.\n",
    "#Process training data\n",
    "processed_mini_train_data = []\n",
    "for i in range(len(mini_train_data)):\n",
    "    processed_mini_train_data.append(smoother(mini_train_data[i], weight))\n",
    "        \n",
    "#process dev_data\n",
    "processed_dev_data = []\n",
    "for i in range(len(dev_data)):\n",
    "    processed_dev_data.append(smoother(dev_data[i], weight))\n",
    "### STUDENT END ###\n",
    "\n",
    "#plot our blurring examples!\n",
    "fig, axes = plt.subplots(2, 1)\n",
    "axes[0].imshow(np.reshape(mini_train_data[40], (28,28)), cmap = \"gray_r\")\n",
    "axes[0].axis('off')\n",
    "axes[1].imshow(np.reshape(processed_mini_train_data[40], (28,28)), cmap = \"gray_r\")\n",
    "axes[1].axis('off')\n",
    "\n",
    "\n",
    "P6()"
   ]
  },
  {
   "cell_type": "markdown",
   "metadata": {},
   "source": [
    "ANSWER: When we preprocess both sets of data we get an extra point or 2 of accuracy. Points of accuracy are harder to come by the closer you get to 100% (see our regression earlier for intuition about this). Therefore I'm pretty happy about the increase in results here. I did not see a significant difference with different weights. A weighting in which each neighbor had the same weight as the original pixel had the same results as a weighting in which each neighbor had half the weight of the original pixel. We see here that we still do get an improvement when we blur all our data, both training and development."
   ]
  },
  {
   "cell_type": "markdown",
   "metadata": {},
   "source": [
    "(7) Fit a Naive Bayes classifier and report accuracy on the dev data. Remember that Naive Bayes estimates P(feature|label). While sklearn can handle real-valued features, let's start by mapping the pixel values to either 0 or 1. You can do this as a preprocessing step, or with the binarize argument. With binary-valued features, you can use BernoulliNB. Next try mapping the pixel values to 0, 1, or 2, representing white, grey, or black. This mapping requires MultinomialNB. Does the multi-class version improve the results? Why or why not?"
   ]
  },
  {
   "cell_type": "code",
   "execution_count": 14,
   "metadata": {},
   "outputs": [
    {
     "name": "stdout",
     "output_type": "stream",
     "text": [
      "Mean accuracy for binarized data:  0.815\n",
      "             precision    recall  f1-score   support\n",
      "\n",
      "        0.0       0.92      0.98      0.95        99\n",
      "        1.0       0.80      0.94      0.87       105\n",
      "        2.0       0.85      0.78      0.82       102\n",
      "        3.0       0.63      0.74      0.68        86\n",
      "        4.0       0.88      0.80      0.84       104\n",
      "        5.0       0.77      0.63      0.69        91\n",
      "        6.0       0.89      0.87      0.88        98\n",
      "        7.0       0.90      0.82      0.86       113\n",
      "        8.0       0.80      0.74      0.77        96\n",
      "        9.0       0.72      0.81      0.76       106\n",
      "\n",
      "avg / total       0.82      0.81      0.81      1000\n",
      "\n",
      "Mean accuracy for trinarized data:  0.806\n",
      "             precision    recall  f1-score   support\n",
      "\n",
      "        0.0       0.91      0.96      0.94        99\n",
      "        1.0       0.89      0.92      0.91       105\n",
      "        2.0       0.84      0.79      0.81       102\n",
      "        3.0       0.64      0.76      0.70        86\n",
      "        4.0       0.90      0.70      0.79       104\n",
      "        5.0       0.83      0.58      0.68        91\n",
      "        6.0       0.87      0.90      0.88        98\n",
      "        7.0       0.96      0.80      0.87       113\n",
      "        8.0       0.67      0.79      0.73        96\n",
      "        9.0       0.65      0.83      0.73       106\n",
      "\n",
      "avg / total       0.82      0.81      0.81      1000\n",
      "\n"
     ]
    }
   ],
   "source": [
    "def P7():\n",
    "\n",
    "### STUDENT START ##    \n",
    "    #Input our data into the model and report score and classifier report\n",
    "    bernoulli_bayes = BernoulliNB()\n",
    "    bernoulli_bayes.fit(binarized_mini_train_data, mini_train_labels)\n",
    "    print(\"Mean accuracy for binarized data: \",bernoulli_bayes.score(binarized_dev_data, dev_labels))\n",
    "    print(classification_report(dev_labels, bernoulli_bayes.predict(binarized_dev_data)))\n",
    "    \n",
    "    #Now we group into 3 shades\n",
    "    trinarized_mini_train_data = []\n",
    "    for i in range(len(mini_train_data)):\n",
    "        trinarized_mini_train_data.append((2*mini_train_data[i]).round(0))\n",
    "        \n",
    "    trinarized_dev_data = []\n",
    "    for i in range(len(dev_data)):\n",
    "        trinarized_dev_data.append((2*dev_data[i]).round(0))\n",
    "        \n",
    "    #Input our data into the model and report score and classifier report\n",
    "    multi_bayes = MultinomialNB()\n",
    "    multi_bayes.fit(trinarized_mini_train_data, mini_train_labels)\n",
    "    print(\"Mean accuracy for trinarized data: \", multi_bayes.score(trinarized_dev_data, dev_labels))\n",
    "    print(classification_report(dev_labels, multi_bayes.predict(trinarized_dev_data)))\n",
    "\n",
    " #First we binarize the data by pre-processing.\n",
    "\n",
    "\n",
    "def binarize(data, ceiling = True):\n",
    "    #This function takes an matrix and round all the values. There are two options. Round to the nearest of 0,1 or round up to 1.\n",
    "    binarized_data = []\n",
    "    for i in range(len(data)):\n",
    "        #This code\n",
    "        if ceiling:\n",
    "            image = []\n",
    "            for j in range(len(data[i])):\n",
    "                if data[i][j] > 0:\n",
    "                    image.append(1)\n",
    "                else:  image.append(0)\n",
    "            binarized_data.append(image)  ### This row can be interchanged with the row 2 below\n",
    "        else:\n",
    "        #This was the other option: I decided to round everything up so that it is more likely that regions are disconnected.\n",
    "            binarized_data.append(data[i].round(0))  ###This row can be interchangedn with the row 2 above\n",
    "    return binarized_data\n",
    "    \n",
    "#we want this as a global variable for future use in extra credit      \n",
    "binarized_mini_train_data = binarize(mini_train_data, ceiling = False)\n",
    "binarized_dev_data = binarize(dev_data, ceiling = False)\n",
    "### STUDENT END ###\n",
    "\n",
    "P7()"
   ]
  },
  {
   "cell_type": "markdown",
   "metadata": {},
   "source": [
    "ANSWER: When we add another dimension to all the features we suddenly enter a much(!) larger feature space. Instead of size 2^784 (237 digits), it is now 3^784 (375 digits). This new feature space is 10^38 times larger. The curse of dimensionality really kicks in here and doesn't allow us to improve on our results by adding more granularity."
   ]
  },
  {
   "cell_type": "markdown",
   "metadata": {},
   "source": [
    "(8) Use GridSearchCV to perform a search over values of alpha (the Laplace smoothing parameter) in a Bernoulli NB model. What is the best value for alpha? What is the accuracy when alpha=0? Is this what you'd expect?\n",
    "\n",
    "- Note that GridSearchCV partitions the training data so the results will be a bit different than if you used the dev data for evaluation."
   ]
  },
  {
   "cell_type": "code",
   "execution_count": 13,
   "metadata": {},
   "outputs": [
    {
     "name": "stderr",
     "output_type": "stream",
     "text": [
      "C:\\Users\\Kippy\\Anaconda3\\lib\\site-packages\\sklearn\\naive_bayes.py:801: RuntimeWarning: divide by zero encountered in log\n",
      "  self.feature_log_prob_ = (np.log(smoothed_fc) -\n",
      "C:\\Users\\Kippy\\Anaconda3\\lib\\site-packages\\sklearn\\naive_bayes.py:801: RuntimeWarning: divide by zero encountered in log\n",
      "  self.feature_log_prob_ = (np.log(smoothed_fc) -\n",
      "C:\\Users\\Kippy\\Anaconda3\\lib\\site-packages\\sklearn\\naive_bayes.py:820: RuntimeWarning: divide by zero encountered in log\n",
      "  neg_prob = np.log(1 - np.exp(self.feature_log_prob_))\n",
      "C:\\Users\\Kippy\\Anaconda3\\lib\\site-packages\\sklearn\\naive_bayes.py:801: RuntimeWarning: divide by zero encountered in log\n",
      "  self.feature_log_prob_ = (np.log(smoothed_fc) -\n"
     ]
    }
   ],
   "source": [
    "def P8(alphas):\n",
    "\n",
    "### STUDENT START ###\n",
    "    \n",
    "    #Input our data into the model and report score and classifier report\n",
    "    grid_search = GridSearchCV(BernoulliNB(), param_grid = alphas)\n",
    "    grid_search.fit(binarized_mini_train_data, mini_train_labels)\n",
    "    return grid_search\n",
    "\n",
    "### STUDENT END ###\n",
    "\n",
    "alphas = {'alpha': [0.0, 0.0001, 0.001, 0.01, 0.1, 0.5, 1.0, 2.0, 10.0]}\n",
    "nb = P8(alphas)"
   ]
  },
  {
   "cell_type": "code",
   "execution_count": 8,
   "metadata": {},
   "outputs": [
    {
     "name": "stdout",
     "output_type": "stream",
     "text": [
      "{'alpha': 0.01}\n",
      "mean: 0.09200, std: 0.00080, params: {'alpha': 0.0}\n"
     ]
    }
   ],
   "source": [
    "print(nb.best_params_)\n",
    "print(nb.grid_scores_[0])"
   ]
  },
  {
   "cell_type": "markdown",
   "metadata": {},
   "source": [
    "ANSWER: As we see here the accuracy for alpha = 0 is merely 10.8%. This is abysmal because we have a lot of zero probabilities due the giant size of our feature space. alpha = 0 is in general pretty degenerate for naive bayes since naive bayes is extremely overconfident."
   ]
  },
  {
   "cell_type": "markdown",
   "metadata": {},
   "source": [
    "(9) Try training a model using GuassianNB, which is intended for real-valued features, and evaluate on the dev data. You'll notice that it doesn't work so well. Try to diagnose the problem. You should be able to find a simple fix that returns the accuracy to around the same rate as BernoulliNB. Explain your solution.\n",
    "\n",
    "Hint: examine the parameters estimated by the fit() method, theta\\_ and sigma\\_."
   ]
  },
  {
   "cell_type": "code",
   "execution_count": 12,
   "metadata": {},
   "outputs": [
    {
     "name": "stdout",
     "output_type": "stream",
     "text": [
      "0.802\n",
      "0.130939368454 0.01\n"
     ]
    }
   ],
   "source": [
    "def P9():\n",
    "\n",
    "### STUDENT END ###\n",
    "\n",
    "    #Input our data into the model and report score and classifier report\n",
    "    gnb = GaussianNB()\n",
    "    gnb.fit(mini_train_data, mini_train_labels)\n",
    "    #fix the variance\n",
    "    sigma = np.zeros((10,784)) + 0.01\n",
    "    gnb.sigma_= sigma\n",
    "    \n",
    "    return gnb\n",
    "\n",
    "### STUDENT END ###\n",
    "\n",
    "gnb = P9()\n",
    "print(gnb.score(dev_data, dev_labels))\n",
    "print(np.mean(gnb.theta_), np.mean(gnb.sigma_))"
   ]
  },
  {
   "cell_type": "markdown",
   "metadata": {},
   "source": [
    "ANSWER: The issue is that the mean is nearly zero (small problem) and the variance is practically zero (huge problem). By increasing the variance by a small amount, we immediately jump back up to 80% accuracy, which is similar to our accuracy using Bernoulli Bayes."
   ]
  },
  {
   "cell_type": "markdown",
   "metadata": {},
   "source": [
    "(10) Because Naive Bayes is a generative model, we can use the trained model to generate digits. Train a BernoulliNB model and then generate a 10x20 grid with 20 examples of each digit. Because you're using a Bernoulli model, each pixel output will be either 0 or 1. How do the generated digits compare to the training digits?\n",
    "\n",
    "- You can use np.random.rand() to generate random numbers from a uniform distribution\n",
    "- The estimated probability of each pixel is stored in feature\\_log\\_prob\\_. You'll need to use np.exp() to convert a log probability back to a probability."
   ]
  },
  {
   "cell_type": "code",
   "execution_count": 56,
   "metadata": {},
   "outputs": [
    {
     "data": {
      "image/png": "[encoded data removed]",
      "text/plain": [
       "<matplotlib.figure.Figure at 0x1bd41262fd0>"
      ]
     },
     "metadata": {},
     "output_type": "display_data"
    }
   ],
   "source": [
    "def P10(num_examples):\n",
    "\n",
    "### STUDENT START ###\n",
    "    bnb = BernoulliNB(alpha = nb.best_params_['alpha'])\n",
    "    bnb.fit(binarized_mini_train_data, mini_train_labels)\n",
    "    \n",
    "    #create a matrix to store our examples\n",
    "    examples=[[None for i in range(num_examples)] for j in range(10)]\n",
    "    for digit in range(10):\n",
    "        for j in range(num_examples):\n",
    "            #creates a vector with a probability result for each pixel\n",
    "            value = np.random.rand(784)\n",
    "            #since we are bernoulli, we need only compare our random number so we take the log here instead of exp our proabilities\n",
    "            value = np.log(value)\n",
    "            #Booleans evaluate to 0 or 1, so we just compare our log-probabilities.\n",
    "            examples[digit][j] = [value[i] <= bnb.feature_log_prob_[digit][i] for i in range(784)]\n",
    "    \n",
    "    #plot our examples!\n",
    "    fig, axes = plt.subplots(10, num_examples)\n",
    "    for digit in range(10):\n",
    "        for j in range(num_examples):\n",
    "            axes[digit,j].imshow(np.reshape(examples[digit][j], (28,28)), cmap = \"gray_r\")\n",
    "            axes[digit,j].axis('off')\n",
    "### STUDENT END ###\n",
    "\n",
    "P10(20)"
   ]
  },
  {
   "cell_type": "markdown",
   "metadata": {},
   "source": [
    "ANSWER: These digits speak for themselves... They're not fantastic. I can see the digits because I know what they're supposed to be, but these are not great! If only we could make connectivity of the lines a feature then these would be better. Some aspects of these that make them less recognizeable is that the points are independent! Therefore we get lots of disconnected cluusters that would not show up if someone were drawing a mostly continuous line with their hand. However, it does have a good enough understnading of the digits to show some of the features that a human brain can recognize (provided you squint hard enough)."
   ]
  },
  {
   "cell_type": "markdown",
   "metadata": {},
   "source": [
    "(11) Remember that a strongly calibrated classifier is rougly 90% accurate when the posterior probability of the predicted class is 0.9. A weakly calibrated classifier is more accurate when the posterior is 90% than when it is 80%. A poorly calibrated classifier has no positive correlation between posterior and accuracy.\n",
    "\n",
    "Train a BernoulliNB model with a reasonable alpha value. For each posterior bucket (think of a bin in a histogram), you want to estimate the classifier's accuracy. So for each prediction, find the bucket the maximum posterior belongs to and update the \"correct\" and \"total\" counters.\n",
    "\n",
    "How would you characterize the calibration for the Naive Bayes model?"
   ]
  },
  {
   "cell_type": "code",
   "execution_count": 57,
   "metadata": {},
   "outputs": [
    {
     "name": "stdout",
     "output_type": "stream",
     "text": [
      "p(pred) <= 0.5000000000000    total =   1    accuracy = 0.000\n",
      "p(pred) <= 0.9000000000000    total =  29    accuracy = 0.345\n",
      "p(pred) <= 0.9990000000000    total =  67    accuracy = 0.478\n",
      "p(pred) <= 0.9999900000000    total =  61    accuracy = 0.459\n",
      "p(pred) <= 0.9999999000000    total =  58    accuracy = 0.638\n",
      "p(pred) <= 0.9999999990000    total =  47    accuracy = 0.532\n",
      "p(pred) <= 0.9999999999900    total =  47    accuracy = 0.723\n",
      "p(pred) <= 0.9999999999999    total =  37    accuracy = 0.784\n",
      "p(pred) <= 1.0000000000000    total = 638    accuracy = 0.953\n"
     ]
    }
   ],
   "source": [
    "def P11(buckets, correct, total):\n",
    "    \n",
    "### STUDENT START ###\n",
    "\n",
    "    #Create our naive bayes model\n",
    "    bnb = BernoulliNB(alpha = 0.001)\n",
    "    bnb.fit(binarized_mini_train_data, mini_train_labels)\n",
    "    prediction = bnb.predict_proba(binarized_dev_data)\n",
    "    \n",
    "    #loop through each prediction\n",
    "    for i in range(len(prediction)):\n",
    "        \n",
    "        #find the maximum probability and the classifier associated to it\n",
    "        classifier = np.argmax(prediction[i])\n",
    "        maximum_prob = prediction[i][classifier]\n",
    "\n",
    "        #Loop through the buckets to find the correct one. When we do, update the total and correct counters\n",
    "        j, end = 0, True\n",
    "        while buckets[j] < 1 and end:\n",
    "            if maximum_prob < buckets[j]: \n",
    "                total[j] += 1\n",
    "                if classifier == dev_labels[i]: correct[j] += 1\n",
    "                end = False\n",
    "            if maximum_prob == 1.0:\n",
    "                total[-1] += 1\n",
    "                if classifier == dev_labels[i]: correct[-1] += 1\n",
    "                end = False\n",
    "            j += 1\n",
    "    \n",
    "### STUDENT END ###\n",
    "\n",
    "buckets = [0.5, 0.9, 0.999, 0.99999, 0.9999999, 0.999999999, 0.99999999999, 0.9999999999999, 1.0]\n",
    "correct = [0 for i in buckets]\n",
    "total = [0 for i in buckets]\n",
    "\n",
    "P11(buckets, correct, total)\n",
    "\n",
    "for i in range(len(buckets)):\n",
    "    accuracy = 0.0\n",
    "    if (total[i] > 0): accuracy = correct[i] / total[i]\n",
    "    print('p(pred) <= %.13f    total = %3d    accuracy = %.3f' %(buckets[i], total[i], accuracy))"
   ]
  },
  {
   "cell_type": "markdown",
   "metadata": {},
   "source": [
    "ANSWER: This model is very weakly calibrated. The accuracy rises as the confidence rises. The confidence however, is far too high. With a prediction 100% confidence, we only have 95.3% accuracy. In my experience, 100% confidence should only be expressed for things we know to be facts.. (aka very few things). From a philosophical standpoint, this is the worst part of the calibration. The rest is also pretty terrible. When the model is 90% confident, its accuracy is a low 34.5% which is higher than a random guess (10% accuracy).\n",
    "    "
   ]
  },
  {
   "cell_type": "markdown",
   "metadata": {},
   "source": [
    "(12) EXTRA CREDIT\n",
    "\n",
    "Try designing extra features to see if you can improve the performance of Naive Bayes on the dev set. Here are a few ideas to get you started:\n",
    "- Try summing the pixel values in each row and each column.\n",
    "- Try counting the number of enclosed regions; 8 usually has 2 enclosed regions, 9 usually has 1, and 7 usually has 0.\n",
    "\n",
    "Make sure you comment your code well!"
   ]
  },
  {
   "cell_type": "code",
   "execution_count": 17,
   "metadata": {},
   "outputs": [
    {
     "name": "stdout",
     "output_type": "stream",
     "text": [
      "             precision    recall  f1-score   support\n",
      "\n",
      "        0.0       0.92      0.96      0.94        99\n",
      "        1.0       0.89      0.92      0.91       105\n",
      "        2.0       0.83      0.79      0.81       102\n",
      "        3.0       0.62      0.74      0.68        86\n",
      "        4.0       0.95      0.78      0.86       104\n",
      "        5.0       0.80      0.71      0.76        91\n",
      "        6.0       0.89      0.91      0.90        98\n",
      "        7.0       0.92      0.81      0.86       113\n",
      "        8.0       0.76      0.79      0.78        96\n",
      "        9.0       0.75      0.86      0.80       106\n",
      "\n",
      "avg / total       0.84      0.83      0.83      1000\n",
      "\n"
     ]
    }
   ],
   "source": [
    "def P12():\n",
    "\n",
    "### STUDENT START ###\n",
    "\n",
    "    def Add_Rows_Columns_Regions(data):\n",
    "    #This function takes a list of 784 pixel representations, sums the rows, and columns and counts connected regions\n",
    "        processed_data = []\n",
    "        for i in range(len(data)):\n",
    "            #we will now reconstruct our data with our additional row and column counts\n",
    "            cells = np.zeros(784+28+28+1)\n",
    "        \n",
    "            #copy pixels\n",
    "            for j in range(784):\n",
    "                cells[j] = data[i][j]\n",
    "\n",
    "            #sum rows\n",
    "            for row in range(28):\n",
    "                #binarize\n",
    "                if sum(data[i][28*row:28*row+28]) < 14:\n",
    "                    cells[784+row] = 0\n",
    "                else:\n",
    "                    cells[784+row] = 1\n",
    "\n",
    "            #sum columns. In order do this we choose our column and then loop through each row adding the value 28 cells later.\n",
    "            for column in range(28):\n",
    "                s = 0\n",
    "                for row in range(28):\n",
    "                    s += data[i][column + 28*row]\n",
    "                #binarize\n",
    "                if s < 14:\n",
    "                    cells[784+28+column] = 0\n",
    "                else:\n",
    "                    cells[784+28+column] = 1\n",
    "\n",
    "            #find connected regions\n",
    "            cells[784+28+28] = Count_Connected_Regions(list(data[i])) #list function is called to not change our raw data \n",
    "\n",
    "            processed_data.append(cells)\n",
    "        \n",
    "        #this code is optional, but it worked for me. This code binarizes the columns, rows and regions data\n",
    "        \n",
    "        return processed_data\n",
    "    \n",
    "    def Count_Connected_Regions(image):\n",
    "        #this function finds all connected regions inhabited by zeroes\n",
    "        #it will do this by storing the region as a negative number so as not to interefere with the binzarized raw data\n",
    "        \n",
    "        #First we define a generator that will give us the next zero in our image. This allows us to find new regions.\n",
    "        def Next_Zero(image):\n",
    "            for i in range(len(image)):\n",
    "                if image[i] == 0:\n",
    "                    yield i\n",
    "            yield -1 #A negative number is an easy check to see we've covered the whole image\n",
    "        \n",
    "        def Flood_Fill(reg_number, image, i):\n",
    "            #This recursive function fills out a connected region given a starting point.\n",
    "            #reg_number is the regions number\n",
    "            #image is the image we are traversing\n",
    "            #i is the index for the starting location of the region\n",
    "            image[i] = reg_number\n",
    "\n",
    "            for j in range(-1,2,1):\n",
    "                for k in range(-1,2,1):\n",
    "                    if i + 28*k >= 0 and i%28 + j >= 0 and i+k*28 < 784 and i%28 + j < 28: #make sure we're not over the boundary\n",
    "                        if k != 0 or j != 0: #If k and j are both zero, then we haven't moved. so no recursion necessary.\n",
    "                            if image[i+28*k+j] == 0: #Then this is connected to our current cell\n",
    "                                Flood_Fill(reg_number, image, i+28*k+j)\n",
    "            return #base case is that all neighbors do not have zeros\n",
    "        \n",
    "        #We will continue looking for regions until all 0's have been assigned to a region\n",
    "        count_reg = 0\n",
    "        zero_gen = Next_Zero(image)\n",
    "        zero_i = next(zero_gen)#index of the next zero\n",
    "        while zero_i > -1:\n",
    "            #start a new region\n",
    "            count_reg += 1\n",
    "            #start our recursion on the pixel zero_i\n",
    "            Flood_Fill(-1*count_reg, image, zero_i)\n",
    "            #before we loop, update the next zero\n",
    "            zero_i = next(zero_gen)\n",
    "        \n",
    "        #we care about regions enclosed by the shape, thus the background region is not of interest. #also, binarizing here\n",
    "        if count_reg - 1 == 0:\n",
    "            return 0\n",
    "        else:\n",
    "            return 1\n",
    "    \n",
    "    processed_mini_train_data = Add_Rows_Columns_Regions(binarized_mini_train_data)\n",
    "    processed_dev_data = Add_Rows_Columns_Regions(binarized_dev_data)\n",
    "    bnb = BernoulliNB(alpha = nb.best_params_['alpha'])\n",
    "    bnb.fit(processed_mini_train_data, mini_train_labels)\n",
    "\n",
    "    print(classification_report(dev_labels, bnb.predict(processed_dev_data)))\n",
    "### STUDENT END ###\n",
    "\n",
    "P12()"
   ]
  },
  {
   "cell_type": "code",
   "execution_count": null,
   "metadata": {
    "collapsed": true
   },
   "outputs": [],
   "source": []
  }
 ],
 "metadata": {
  "kernelspec": {
   "display_name": "Python 3",
   "language": "python",
   "name": "python3"
  },
  "language_info": {
   "codemirror_mode": {
    "name": "ipython",
    "version": 3
   },
   "file_extension": ".py",
   "mimetype": "text/x-python",
   "name": "python",
   "nbconvert_exporter": "python",
   "pygments_lexer": "ipython3",
   "version": "3.6.1"
  }
 },
 "nbformat": 4,
 "nbformat_minor": 1
}
